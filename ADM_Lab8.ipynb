{
  "nbformat": 4,
  "nbformat_minor": 0,
  "metadata": {
    "colab": {
      "provenance": [],
      "authorship_tag": "ABX9TyNzVY9kLp2qjeBWBJ6SadGQ",
      "include_colab_link": true
    },
    "kernelspec": {
      "name": "python3",
      "display_name": "Python 3"
    },
    "language_info": {
      "name": "python"
    }
  },
  "cells": [
    {
      "cell_type": "markdown",
      "metadata": {
        "id": "view-in-github",
        "colab_type": "text"
      },
      "source": [
        "<a href=\"https://colab.research.google.com/github/2303A51272/ADM-Lab/blob/main/ADM_Lab8.ipynb\" target=\"_parent\"><img src=\"https://colab.research.google.com/assets/colab-badge.svg\" alt=\"Open In Colab\"/></a>"
      ]
    },
    {
      "cell_type": "code",
      "execution_count": null,
      "metadata": {
        "id": "_5pER1FKyyC0"
      },
      "outputs": [],
      "source": [
        "import numpy as np\n",
        "import pandas as pd\n",
        "import matplotlib.pyplot as plt\n",
        "import seaborn as sns\n",
        "from scipy import stats"
      ]
    },
    {
      "cell_type": "code",
      "source": [
        "np.random.seed(42)\n",
        "data=np.random.normal(0,1,100)\n",
        "outliers=np.random.uniform(5,10,5)"
      ],
      "metadata": {
        "id": "nTe0PDhd0CHW"
      },
      "execution_count": null,
      "outputs": []
    },
    {
      "cell_type": "code",
      "source": [
        "combined_data = np.concatenate((data, outliers))\n",
        "print(combined_data)"
      ],
      "metadata": {
        "colab": {
          "base_uri": "https://localhost:8080/"
        },
        "id": "3YvVtDFV1VX5",
        "outputId": "681133c9-d121-482f-b130-78c82baf4384"
      },
      "execution_count": null,
      "outputs": [
        {
          "output_type": "stream",
          "name": "stdout",
          "text": [
            "[ 4.96714153e-01 -1.38264301e-01  6.47688538e-01  1.52302986e+00\n",
            " -2.34153375e-01 -2.34136957e-01  1.57921282e+00  7.67434729e-01\n",
            " -4.69474386e-01  5.42560044e-01 -4.63417693e-01 -4.65729754e-01\n",
            "  2.41962272e-01 -1.91328024e+00 -1.72491783e+00 -5.62287529e-01\n",
            " -1.01283112e+00  3.14247333e-01 -9.08024076e-01 -1.41230370e+00\n",
            "  1.46564877e+00 -2.25776300e-01  6.75282047e-02 -1.42474819e+00\n",
            " -5.44382725e-01  1.10922590e-01 -1.15099358e+00  3.75698018e-01\n",
            " -6.00638690e-01 -2.91693750e-01 -6.01706612e-01  1.85227818e+00\n",
            " -1.34972247e-02 -1.05771093e+00  8.22544912e-01 -1.22084365e+00\n",
            "  2.08863595e-01 -1.95967012e+00 -1.32818605e+00  1.96861236e-01\n",
            "  7.38466580e-01  1.71368281e-01 -1.15648282e-01 -3.01103696e-01\n",
            " -1.47852199e+00 -7.19844208e-01 -4.60638771e-01  1.05712223e+00\n",
            "  3.43618290e-01 -1.76304016e+00  3.24083969e-01 -3.85082280e-01\n",
            " -6.76922000e-01  6.11676289e-01  1.03099952e+00  9.31280119e-01\n",
            " -8.39217523e-01 -3.09212376e-01  3.31263431e-01  9.75545127e-01\n",
            " -4.79174238e-01 -1.85658977e-01 -1.10633497e+00 -1.19620662e+00\n",
            "  8.12525822e-01  1.35624003e+00 -7.20101216e-02  1.00353290e+00\n",
            "  3.61636025e-01 -6.45119755e-01  3.61395606e-01  1.53803657e+00\n",
            " -3.58260391e-02  1.56464366e+00 -2.61974510e+00  8.21902504e-01\n",
            "  8.70470682e-02 -2.99007350e-01  9.17607765e-02 -1.98756891e+00\n",
            " -2.19671888e-01  3.57112572e-01  1.47789404e+00 -5.18270218e-01\n",
            " -8.08493603e-01 -5.01757044e-01  9.15402118e-01  3.28751110e-01\n",
            " -5.29760204e-01  5.13267433e-01  9.70775493e-02  9.68644991e-01\n",
            " -7.02053094e-01 -3.27662147e-01 -3.92108153e-01 -1.46351495e+00\n",
            "  2.96120277e-01  2.61055272e-01  5.11345664e-03 -2.34587133e-01\n",
            "  7.08705502e+00  6.11053905e+00  5.59932684e+00  6.68807586e+00\n",
            "  9.71454852e+00]\n"
          ]
        }
      ]
    },
    {
      "cell_type": "code",
      "source": [
        "max_value = np.max(combined_data)\n",
        "min_value = np.min(combined_data)\n",
        "print(f\"Maximum value: {max_value}\")\n",
        "print(f\"Minimum value: {min_value}\")"
      ],
      "metadata": {
        "colab": {
          "base_uri": "https://localhost:8080/"
        },
        "id": "6YgW3Xp71fJ4",
        "outputId": "553fda88-a17e-48e2-bfa6-f0616bd3cb67"
      },
      "execution_count": null,
      "outputs": [
        {
          "output_type": "stream",
          "name": "stdout",
          "text": [
            "Maximum value: 9.714548519562596\n",
            "Minimum value: -2.6197451040897444\n"
          ]
        }
      ]
    },
    {
      "source": [
        "df = pd.DataFrame({'value': combined_data}) # Replace data_with_outliers with combined_data\n",
        "Q1=df['value'].quantile(0.25)\n",
        "Q3=df['value'].quantile(0.75)\n",
        "IQR=Q3-Q1\n",
        "lower_bound=Q1-1.5*IQR\n",
        "upper_bound=Q3+1.5*IQR\n",
        "outliers=df[(df['value']<lower_bound)|(df['value']>upper_bound)]\n",
        "print(lower_bound)\n",
        "print(upper_bound)\n",
        "print(outliers)"
      ],
      "cell_type": "code",
      "metadata": {
        "colab": {
          "base_uri": "https://localhost:8080/"
        },
        "id": "_RsvK-aa8da8",
        "outputId": "9e7128a5-4fdd-433f-9e68-a57aef07f575"
      },
      "execution_count": null,
      "outputs": [
        {
          "output_type": "stream",
          "name": "stdout",
          "text": [
            "-2.3232332563637335\n",
            "2.372622015963629\n",
            "        value\n",
            "74  -2.619745\n",
            "100  7.087055\n",
            "101  6.110539\n",
            "102  5.599327\n",
            "103  6.688076\n",
            "104  9.714549\n"
          ]
        }
      ]
    },
    {
      "cell_type": "code",
      "source": [
        "z_scores=stats.zscore(df['value'])\n",
        "outliers_zscore=df[np.abs(z_scores)>3]"
      ],
      "metadata": {
        "id": "y_70OKHB8gRo"
      },
      "execution_count": null,
      "outputs": []
    },
    {
      "cell_type": "code",
      "source": [
        "plt.figure(figsize=(8,6))\n",
        "sns.boxplot(x=df['value'])\n",
        "plt.title(\"Boxplot for outlier Detection\")\n",
        "plt.show()"
      ],
      "metadata": {
        "colab": {
          "base_uri": "https://localhost:8080/",
          "height": 564
        },
        "id": "JJrd4ztw8plP",
        "outputId": "4ce640d3-9a43-4c40-b6b9-90e8d69b5647"
      },
      "execution_count": null,
      "outputs": [
        {
          "output_type": "display_data",
          "data": {
            "text/plain": [
              "<Figure size 800x600 with 1 Axes>"
            ],
            "image/png": "[encoded data removed]"
          },
          "metadata": {}
        }
      ]
    },
    {
      "cell_type": "code",
      "source": [
        "df_capped=df.copy()\n",
        "df_capped['value']=np.clip(df_capped['value'],lower_bound,upper_bound)\n",
        "print(df_capped)"
      ],
      "metadata": {
        "colab": {
          "base_uri": "https://localhost:8080/"
        },
        "id": "A2ad-S2U8yOY",
        "outputId": "9ac06111-acb5-4b0c-ee55-c759b854a7ae"
      },
      "execution_count": null,
      "outputs": [
        {
          "output_type": "stream",
          "name": "stdout",
          "text": [
            "        value\n",
            "0    0.496714\n",
            "1   -0.138264\n",
            "2    0.647689\n",
            "3    1.523030\n",
            "4   -0.234153\n",
            "..        ...\n",
            "100  2.372622\n",
            "101  2.372622\n",
            "102  2.372622\n",
            "103  2.372622\n",
            "104  2.372622\n",
            "\n",
            "[105 rows x 1 columns]\n"
          ]
        }
      ]
    },
    {
      "cell_type": "code",
      "source": [
        "df_removed=df.copy()\n",
        "df_removed=df_removed[(df_removed)['value']>=lower_bound]\n",
        "df_removed=df_removed[(df_removed)['value']<=upper_bound]\n",
        "print(df_removed)"
      ],
      "metadata": {
        "colab": {
          "base_uri": "https://localhost:8080/"
        },
        "id": "ACrt-n5c9Jb6",
        "outputId": "9a62c707-ba28-47e3-e2cd-1b19a337038f"
      },
      "execution_count": null,
      "outputs": [
        {
          "output_type": "stream",
          "name": "stdout",
          "text": [
            "       value\n",
            "0   0.496714\n",
            "1  -0.138264\n",
            "2   0.647689\n",
            "3   1.523030\n",
            "4  -0.234153\n",
            "..       ...\n",
            "95 -1.463515\n",
            "96  0.296120\n",
            "97  0.261055\n",
            "98  0.005113\n",
            "99 -0.234587\n",
            "\n",
            "[99 rows x 1 columns]\n"
          ]
        }
      ]
    },
    {
      "cell_type": "code",
      "source": [
        "df_imputed=df.copy()\n",
        "median_value=df_imputed['value'].median()\n",
        "df_imputed['value']=np.where(df_imputed['value']<lower_bound,median_value,df_imputed['value'])\n",
        "df_imputed['value']=np.where(df_imputed['value']>upper_bound,median_value,df_imputed['value'])\n",
        "print(df_imputed)\n"
      ],
      "metadata": {
        "colab": {
          "base_uri": "https://localhost:8080/"
        },
        "id": "5StSAC-z_EST",
        "outputId": "ae676d47-4733-4d2f-f766-84bd78c070ad"
      },
      "execution_count": null,
      "outputs": [
        {
          "output_type": "stream",
          "name": "stdout",
          "text": [
            "        value\n",
            "0    0.496714\n",
            "1   -0.138264\n",
            "2    0.647689\n",
            "3    1.523030\n",
            "4   -0.234153\n",
            "..        ...\n",
            "100 -0.035826\n",
            "101 -0.035826\n",
            "102 -0.035826\n",
            "103 -0.035826\n",
            "104 -0.035826\n",
            "\n",
            "[105 rows x 1 columns]\n"
          ]
        }
      ]
    },
    {
      "cell_type": "code",
      "source": [
        "plt.figure(figsize=(8,6))\n",
        "sns.boxplot(x=df_capped['value'])\n",
        "plt.title(\"capped outliers\")\n",
        "plt.show()"
      ],
      "metadata": {
        "colab": {
          "base_uri": "https://localhost:8080/",
          "height": 564
        },
        "id": "ChdNuP3A_Hf6",
        "outputId": "82779f4b-3ef8-476a-d092-f16a6426b62c"
      },
      "execution_count": null,
      "outputs": [
        {
          "output_type": "display_data",
          "data": {
            "text/plain": [
              "<Figure size 800x600 with 1 Axes>"
            ],
            "image/png": "[encoded data removed]"
          },
          "metadata": {}
        }
      ]
    }
  ]
}